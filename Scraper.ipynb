{
  "nbformat": 4,
  "nbformat_minor": 0,
  "metadata": {
    "colab": {
      "provenance": [],
      "gpuType": "T4",
      "authorship_tag": "ABX9TyNDSJWfXgVlelc1jXODRQEY"
    },
    "kernelspec": {
      "name": "python3",
      "display_name": "Python 3"
    },
    "language_info": {
      "name": "python"
    }
  },
  "cells": [
    {
      "cell_type": "code",
      "source": [
        "# Installing Chrome Driver and Selenium in Google Colab\n",
        "!pip install chromedriver-autoinstaller\n",
        "!pip install selenium"
      ],
      "metadata": {
        "id": "dclmXGmvu3h1",
        "colab": {
          "base_uri": "https://localhost:8080/"
        },
        "outputId": "2c1f1d54-6a87-40a4-e33f-082a639235de"
      },
      "execution_count": 1,
      "outputs": [
        {
          "output_type": "stream",
          "name": "stdout",
          "text": [
            "Collecting chromedriver-autoinstaller\n",
            "  Downloading chromedriver_autoinstaller-0.6.4-py3-none-any.whl.metadata (2.1 kB)\n",
            "Requirement already satisfied: packaging>=23.1 in /usr/local/lib/python3.10/dist-packages (from chromedriver-autoinstaller) (24.2)\n",
            "Downloading chromedriver_autoinstaller-0.6.4-py3-none-any.whl (7.6 kB)\n",
            "Installing collected packages: chromedriver-autoinstaller\n",
            "Successfully installed chromedriver-autoinstaller-0.6.4\n",
            "Collecting selenium\n",
            "  Downloading selenium-4.27.1-py3-none-any.whl.metadata (7.1 kB)\n",
            "Requirement already satisfied: urllib3<3,>=1.26 in /usr/local/lib/python3.10/dist-packages (from urllib3[socks]<3,>=1.26->selenium) (2.2.3)\n",
            "Collecting trio~=0.17 (from selenium)\n",
            "  Downloading trio-0.27.0-py3-none-any.whl.metadata (8.6 kB)\n",
            "Collecting trio-websocket~=0.9 (from selenium)\n",
            "  Downloading trio_websocket-0.11.1-py3-none-any.whl.metadata (4.7 kB)\n",
            "Requirement already satisfied: certifi>=2021.10.8 in /usr/local/lib/python3.10/dist-packages (from selenium) (2024.8.30)\n",
            "Requirement already satisfied: typing_extensions~=4.9 in /usr/local/lib/python3.10/dist-packages (from selenium) (4.12.2)\n",
            "Requirement already satisfied: websocket-client~=1.8 in /usr/local/lib/python3.10/dist-packages (from selenium) (1.8.0)\n",
            "Requirement already satisfied: attrs>=23.2.0 in /usr/local/lib/python3.10/dist-packages (from trio~=0.17->selenium) (24.2.0)\n",
            "Collecting sortedcontainers (from trio~=0.17->selenium)\n",
            "  Downloading sortedcontainers-2.4.0-py2.py3-none-any.whl.metadata (10 kB)\n",
            "Requirement already satisfied: idna in /usr/local/lib/python3.10/dist-packages (from trio~=0.17->selenium) (3.10)\n",
            "Collecting outcome (from trio~=0.17->selenium)\n",
            "  Downloading outcome-1.3.0.post0-py2.py3-none-any.whl.metadata (2.6 kB)\n",
            "Requirement already satisfied: sniffio>=1.3.0 in /usr/local/lib/python3.10/dist-packages (from trio~=0.17->selenium) (1.3.1)\n",
            "Requirement already satisfied: exceptiongroup in /usr/local/lib/python3.10/dist-packages (from trio~=0.17->selenium) (1.2.2)\n",
            "Collecting wsproto>=0.14 (from trio-websocket~=0.9->selenium)\n",
            "  Downloading wsproto-1.2.0-py3-none-any.whl.metadata (5.6 kB)\n",
            "Requirement already satisfied: pysocks!=1.5.7,<2.0,>=1.5.6 in /usr/local/lib/python3.10/dist-packages (from urllib3[socks]<3,>=1.26->selenium) (1.7.1)\n",
            "Requirement already satisfied: h11<1,>=0.9.0 in /usr/local/lib/python3.10/dist-packages (from wsproto>=0.14->trio-websocket~=0.9->selenium) (0.14.0)\n",
            "Downloading selenium-4.27.1-py3-none-any.whl (9.7 MB)\n",
            "\u001b[2K   \u001b[90m━━━━━━━━━━━━━━━━━━━━━━━━━━━━━━━━━━━━━━━━\u001b[0m \u001b[32m9.7/9.7 MB\u001b[0m \u001b[31m58.1 MB/s\u001b[0m eta \u001b[36m0:00:00\u001b[0m\n",
            "\u001b[?25hDownloading trio-0.27.0-py3-none-any.whl (481 kB)\n",
            "\u001b[2K   \u001b[90m━━━━━━━━━━━━━━━━━━━━━━━━━━━━━━━━━━━━━━━━\u001b[0m \u001b[32m481.7/481.7 kB\u001b[0m \u001b[31m28.6 MB/s\u001b[0m eta \u001b[36m0:00:00\u001b[0m\n",
            "\u001b[?25hDownloading trio_websocket-0.11.1-py3-none-any.whl (17 kB)\n",
            "Downloading wsproto-1.2.0-py3-none-any.whl (24 kB)\n",
            "Downloading outcome-1.3.0.post0-py2.py3-none-any.whl (10 kB)\n",
            "Downloading sortedcontainers-2.4.0-py2.py3-none-any.whl (29 kB)\n",
            "Installing collected packages: sortedcontainers, wsproto, outcome, trio, trio-websocket, selenium\n",
            "Successfully installed outcome-1.3.0.post0 selenium-4.27.1 sortedcontainers-2.4.0 trio-0.27.0 trio-websocket-0.11.1 wsproto-1.2.0\n"
          ]
        }
      ]
    },
    {
      "cell_type": "code",
      "execution_count": 2,
      "metadata": {
        "id": "fovJ8yHqgnLV",
        "colab": {
          "base_uri": "https://localhost:8080/"
        },
        "outputId": "964d595a-fe5d-4147-9f8a-0943feeb8ab5"
      },
      "outputs": [
        {
          "output_type": "stream",
          "name": "stdout",
          "text": [
            "Mounted at /content/drive/\n"
          ]
        }
      ],
      "source": [
        "# Importing the required libraries\n",
        "import requests\n",
        "import pandas as pd\n",
        "import re\n",
        "from google.colab import drive\n",
        "drive.mount('/content/drive/')\n",
        "\n",
        "import time\n",
        "\n",
        "import sys\n",
        "sys.path.insert(0,'/usr/lib/chromium-browser/chromedriver')\n",
        "\n",
        "from selenium import webdriver\n",
        "import chromedriver_autoinstaller\n",
        "\n",
        "from selenium.webdriver.common.by import By\n",
        "from selenium.webdriver.common.keys import Keys\n",
        "from selenium.webdriver.support import expected_conditions as EC\n",
        "from selenium.webdriver.support.ui import WebDriverWait\n",
        "from selenium.common.exceptions import TimeoutException, NoSuchElementException"
      ]
    },
    {
      "cell_type": "code",
      "source": [
        "page_number = 0\n",
        "response_str = \"\"\n",
        "condition_bool = True\n",
        "while(condition_bool):\n",
        "  page_number += 1\n",
        "  url = \"https://vrdb.app/games?page=\" + str(page_number)\n",
        "\n",
        "  # Send the GET request\n",
        "  try:\n",
        "    response = requests.get(url)\n",
        "    response.raise_for_status()  # Raise an exception for non-2xx status codes\n",
        "  except requests.exceptions.RequestException as e:\n",
        "    print(f\"An error occurred: {e}\")\n",
        "    # For human-readable content, use response.text\n",
        "    # For raw data, use response.content\n",
        "  pattern_script = r'<script>__sveltekit_1pr461f.resolve(.*?)</script>'\n",
        "  match_script = re.findall(pattern_script, str(response.content))\n",
        "  response_str += match_script[0]\n",
        "  # To end the execution of the while loop\n",
        "  condition_bool = \"data:[]\" not in str(response.content)\n",
        "\n",
        "del url, condition_bool\n",
        "\n",
        "pattern_name = r'name:\"(.*?)\"'\n",
        "pattern_rating_count = r'rating_count:(.*?),'\n",
        "pattern_genre = r'genres:\\[\"(.*?)\"\\]'\n",
        "pattern_links = r'store_link:\"(.*?)\"'\n",
        "pattern_currency_USD = r'price:{currency:\"USD\",amount:(.*?),'\n",
        "pattern_game_mode = r'game_mode:\"(.*?)\"'\n",
        "pattern_supported_player_modes = r'supported_player_modes:\\[(.*?)\\]'\n",
        "pattern_supported_controllers = r'supported_controllers:\\[\"(.*?)\"\\]'\n",
        "pattern_platforms = r'platforms:\\[(.*?)\\]'\n",
        "pattern_languages = r'languages:\\[\"(.*?)\"\\]'\n",
        "pattern_release_date_short = r'release_date_short:\"(.*?)\"'\n",
        "pattern_rating_score = r'rating_score:(.*?),'\n",
        "pattern_description = r'description:\"(.*?)\",'\n",
        "pattern_category = r'category:\"(.*?)\"'\n",
        "pattern_age_rating = r'age_rating:\"(.*?)\"'\n",
        "\n",
        "match_name = re.findall(pattern_name, response_str)\n",
        "match_rating_count = re.findall(pattern_rating_count, response_str)\n",
        "match_genre = re.findall(pattern_genre, response_str)\n",
        "match_links = re.findall(pattern_links, response_str)\n",
        "match_currency_USD = re.findall(pattern_currency_USD, response_str)\n",
        "match_game_mode = re.findall(pattern_game_mode, response_str)\n",
        "match_supported_player_modes = re.findall(pattern_supported_player_modes, response_str)\n",
        "match_supported_controllers = re.findall(pattern_supported_controllers, response_str)\n",
        "match_platforms = re.findall(pattern_platforms, response_str)\n",
        "match_languages = re.findall(pattern_languages, response_str)\n",
        "match_release_date_short = re.findall(pattern_release_date_short, response_str)\n",
        "match_rating_score = re.findall(pattern_rating_score, response_str)\n",
        "match_description = re.findall(pattern_description, response_str)\n",
        "match_category = re.findall(pattern_category, response_str)\n",
        "match_age_rating = re.findall(pattern_age_rating, response_str)\n",
        "\n",
        "# Deleting the response from the URL\n",
        "del response, response_str\n",
        "\n",
        "# Deleting the temp pattern variables\n",
        "del pattern_name, pattern_rating_count, pattern_genre, pattern_links, \\\n",
        "pattern_currency_USD, pattern_game_mode, pattern_supported_player_modes, \\\n",
        "pattern_supported_controllers, pattern_platforms, pattern_languages, \\\n",
        "pattern_release_date_short, pattern_rating_score, pattern_description, \\\n",
        "pattern_category, pattern_age_rating, pattern_script\n",
        "\n",
        "# Cleaning the data\n",
        "del match_rating_count[::2], match_rating_score[::2]\n",
        "\n",
        "for counter in range(len(match_name)):\n",
        "  match_name[counter] = match_name[counter].replace(\"\\\\'\",\"'\")\n",
        "  match_links[counter] = match_links[counter].replace('?utm_source=vrdb.app','')\n",
        "  # Cleaning the lists in the data\n",
        "  match_genre[counter] = match_genre[counter].replace('\"','')\n",
        "  match_platforms[counter] = match_platforms[counter].replace('\"','')\n",
        "  match_supported_player_modes[counter] = match_supported_player_modes[counter].replace('\"','')\n",
        "  match_supported_controllers[counter] = match_supported_controllers[counter].replace('\"','')\n",
        "  match_languages[counter] = match_languages[counter].replace('\"','')\n",
        "  # Cleaning the currency data\n",
        "  match_currency_USD[counter] = match_currency_USD[counter].replace('null','0')\n",
        "  match_currency_USD[counter] = str(float(match_currency_USD[counter]) / 100)\n",
        "\n",
        "# Deleting the temp pattern variable\n",
        "del counter\n",
        "\n",
        "# Writing the dictionary (data) to Excel file\n",
        "dict_csv = {\"Name\":match_name, \"Genre\":match_genre, \\\n",
        "            \"Meta Link\":match_links, \"Release Date\":match_release_date_short, \\\n",
        "            \"Rating Score\":match_rating_score, \"Rating Count\":match_rating_count, \\\n",
        "             \"Supported Platforms\":match_platforms, \"Game Mode\":match_game_mode, \\\n",
        "            \"Supported Player Modes\":match_supported_player_modes, \\\n",
        "            \"Supported Controllers\":match_supported_controllers, \\\n",
        "            \"Languages\":match_languages, \"Price (USD)\":match_currency_USD, \\\n",
        "            \"Description\":match_description, \"Category\":match_category, \\\n",
        "            \"Age Rating\":match_age_rating}\n",
        "df = pd.DataFrame(dict_csv)\n",
        "df.to_excel(\"/content/drive/My Drive/Meta Quest Games.xlsx\", index=False)"
      ],
      "metadata": {
        "id": "tchR02vogqQu"
      },
      "execution_count": 97,
      "outputs": []
    }
  ]
}